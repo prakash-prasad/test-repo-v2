{
 "cells": [
  {
   "cell_type": "code",
   "execution_count": 1,
   "metadata": {
    "collapsed": true,
    "ExecuteTime": {
     "end_time": "2024-07-29T17:55:33.884855600Z",
     "start_time": "2024-07-29T17:55:01.090021300Z"
    }
   },
   "outputs": [
    {
     "name": "stdout",
     "output_type": "stream",
     "text": [
      "WARNING:tensorflow:From C:\\Users\\praka\\anaconda3\\envs\\asmt_hw\\lib\\site-packages\\keras\\src\\losses.py:2976: The name tf.losses.sparse_softmax_cross_entropy is deprecated. Please use tf.compat.v1.losses.sparse_softmax_cross_entropy instead.\n",
      "\n"
     ]
    }
   ],
   "source": [
    "import tensorflow as tf\n",
    "from keras.datasets import mnist\n",
    "from keras.models import Sequential\n",
    "from keras.layers import Conv2D, MaxPooling2D, Flatten, Dense, Dropout, BatchNormalization\n",
    "from keras.utils import to_categorical\n"
   ]
  },
  {
   "cell_type": "code",
   "execution_count": 2,
   "outputs": [
    {
     "name": "stdout",
     "output_type": "stream",
     "text": [
      "Downloading data from https://storage.googleapis.com/tensorflow/tf-keras-datasets/mnist.npz\n",
      "11490434/11490434 [==============================] - 2s 0us/step\n"
     ]
    }
   ],
   "source": [
    "# Load MNIST data\n",
    "(x_train, y_train), (x_test, y_test) = mnist.load_data()\n",
    "\n",
    "# Reshape and normalize the data\n",
    "x_train = x_train.reshape(-1, 28, 28, 1).astype('float32') / 255\n",
    "x_test = x_test.reshape(-1, 28, 28, 1).astype('float32') / 255\n",
    "\n",
    "# One-hot encode the labels\n",
    "y_train = to_categorical(y_train, 10)\n",
    "y_test = to_categorical(y_test, 10)"
   ],
   "metadata": {
    "collapsed": false,
    "ExecuteTime": {
     "end_time": "2024-07-29T17:55:50.204958Z",
     "start_time": "2024-07-29T17:55:46.840017200Z"
    }
   }
  },
  {
   "cell_type": "code",
   "execution_count": 3,
   "outputs": [
    {
     "name": "stdout",
     "output_type": "stream",
     "text": [
      "WARNING:tensorflow:From C:\\Users\\praka\\anaconda3\\envs\\asmt_hw\\lib\\site-packages\\keras\\src\\backend.py:873: The name tf.get_default_graph is deprecated. Please use tf.compat.v1.get_default_graph instead.\n",
      "\n",
      "WARNING:tensorflow:From C:\\Users\\praka\\anaconda3\\envs\\asmt_hw\\lib\\site-packages\\keras\\src\\layers\\pooling\\max_pooling2d.py:161: The name tf.nn.max_pool is deprecated. Please use tf.nn.max_pool2d instead.\n",
      "\n",
      "WARNING:tensorflow:From C:\\Users\\praka\\anaconda3\\envs\\asmt_hw\\lib\\site-packages\\keras\\src\\optimizers\\__init__.py:309: The name tf.train.Optimizer is deprecated. Please use tf.compat.v1.train.Optimizer instead.\n",
      "\n"
     ]
    }
   ],
   "source": [
    "# Define the CNN model\n",
    "model = Sequential([\n",
    "    Conv2D(32, kernel_size=(3, 3), activation='relu', input_shape=(28, 28, 1)),\n",
    "    MaxPooling2D(pool_size=(2, 2)),\n",
    "    Conv2D(64, kernel_size=(3, 3), activation='relu'),\n",
    "    MaxPooling2D(pool_size=(2, 2)),\n",
    "    Flatten(),\n",
    "    Dense(128, activation='relu'),\n",
    "    Dropout(0.5),\n",
    "    Dense(10, activation='softmax')\n",
    "])\n",
    "\n",
    "# Compile the model\n",
    "model.compile(optimizer='adam', loss='categorical_crossentropy', metrics=['accuracy'])\n"
   ],
   "metadata": {
    "collapsed": false,
    "ExecuteTime": {
     "end_time": "2024-07-29T17:56:09.975057700Z",
     "start_time": "2024-07-29T17:56:09.568601900Z"
    }
   }
  },
  {
   "cell_type": "code",
   "execution_count": null,
   "outputs": [],
   "source": [
    "## For later use:\n",
    "\n",
    "# model = Sequential([\n",
    "#     Conv2D(32, kernel_size=(3, 3), activation='relu', input_shape=(28, 28, 1)),\n",
    "#     BatchNormalization(),\n",
    "#     MaxPooling2D(pool_size=(2, 2)),\n",
    "#\n",
    "#     Conv2D(64, kernel_size=(3, 3), activation='relu'),\n",
    "#     BatchNormalization(),\n",
    "#     MaxPooling2D(pool_size=(2, 2)),\n",
    "#\n",
    "#     Conv2D(128, kernel_size=(3, 3), activation='relu'),\n",
    "#     BatchNormalization(),\n",
    "#     MaxPooling2D(pool_size=(2, 2)),\n",
    "#\n",
    "#     Flatten(),\n",
    "#\n",
    "#     Dense(256, activation='relu'),\n",
    "#     Dropout(0.5),\n",
    "#\n",
    "#     Dense(128, activation='relu'),\n",
    "#     Dropout(0.5),\n",
    "#\n",
    "#     Dense(10, activation='softmax')\n",
    "# ])\n",
    "#\n",
    "# # Compile the model\n",
    "# model.compile(optimizer='adam', loss='categorical_crossentropy', metrics=['accuracy'])\n"
   ],
   "metadata": {
    "collapsed": false
   }
  },
  {
   "cell_type": "code",
   "execution_count": 4,
   "outputs": [
    {
     "name": "stdout",
     "output_type": "stream",
     "text": [
      "Epoch 1/10\n",
      "WARNING:tensorflow:From C:\\Users\\praka\\anaconda3\\envs\\asmt_hw\\lib\\site-packages\\keras\\src\\utils\\tf_utils.py:492: The name tf.ragged.RaggedTensorValue is deprecated. Please use tf.compat.v1.ragged.RaggedTensorValue instead.\n",
      "\n",
      "WARNING:tensorflow:From C:\\Users\\praka\\anaconda3\\envs\\asmt_hw\\lib\\site-packages\\keras\\src\\engine\\base_layer_utils.py:384: The name tf.executing_eagerly_outside_functions is deprecated. Please use tf.compat.v1.executing_eagerly_outside_functions instead.\n",
      "\n",
      "422/422 [==============================] - 6s 13ms/step - loss: 0.3355 - accuracy: 0.8949 - val_loss: 0.0611 - val_accuracy: 0.9815\n",
      "Epoch 2/10\n",
      "422/422 [==============================] - 5s 12ms/step - loss: 0.1031 - accuracy: 0.9682 - val_loss: 0.0425 - val_accuracy: 0.9873\n",
      "Epoch 3/10\n",
      "422/422 [==============================] - 5s 12ms/step - loss: 0.0781 - accuracy: 0.9769 - val_loss: 0.0411 - val_accuracy: 0.9868\n",
      "Epoch 4/10\n",
      "422/422 [==============================] - 5s 12ms/step - loss: 0.0627 - accuracy: 0.9816 - val_loss: 0.0326 - val_accuracy: 0.9913\n",
      "Epoch 5/10\n",
      "422/422 [==============================] - 5s 12ms/step - loss: 0.0523 - accuracy: 0.9846 - val_loss: 0.0317 - val_accuracy: 0.9908\n",
      "Epoch 6/10\n",
      "422/422 [==============================] - 5s 12ms/step - loss: 0.0443 - accuracy: 0.9865 - val_loss: 0.0336 - val_accuracy: 0.9913\n",
      "Epoch 7/10\n",
      "422/422 [==============================] - 5s 12ms/step - loss: 0.0403 - accuracy: 0.9878 - val_loss: 0.0301 - val_accuracy: 0.9922\n",
      "Epoch 8/10\n",
      "422/422 [==============================] - 5s 12ms/step - loss: 0.0354 - accuracy: 0.9886 - val_loss: 0.0317 - val_accuracy: 0.9913\n",
      "Epoch 9/10\n",
      "422/422 [==============================] - 5s 12ms/step - loss: 0.0317 - accuracy: 0.9905 - val_loss: 0.0292 - val_accuracy: 0.9922\n",
      "Epoch 10/10\n",
      "422/422 [==============================] - 5s 12ms/step - loss: 0.0279 - accuracy: 0.9911 - val_loss: 0.0293 - val_accuracy: 0.9923\n"
     ]
    },
    {
     "data": {
      "text/plain": "<keras.src.callbacks.History at 0x298ccf063b0>"
     },
     "execution_count": 4,
     "metadata": {},
     "output_type": "execute_result"
    }
   ],
   "source": [
    "# Train the model\n",
    "model.fit(x_train, y_train, batch_size=128, epochs=10, verbose=1, validation_split=0.1)"
   ],
   "metadata": {
    "collapsed": false,
    "ExecuteTime": {
     "end_time": "2024-07-29T17:57:10.148075500Z",
     "start_time": "2024-07-29T17:56:18.261994700Z"
    }
   }
  },
  {
   "cell_type": "code",
   "execution_count": 6,
   "outputs": [
    {
     "name": "stdout",
     "output_type": "stream",
     "text": [
      "Train loss: 0.011070326901972294\n",
      "Train accuracy: 0.9967833161354065\n"
     ]
    }
   ],
   "source": [
    "# Evaluate the model\n",
    "score = model.evaluate(x_train, y_train, verbose=0)\n",
    "print(f'Train loss: {score[0]}')\n",
    "print(f'Train accuracy: {score[1]}')"
   ],
   "metadata": {
    "collapsed": false,
    "ExecuteTime": {
     "end_time": "2024-07-29T18:00:43.937359Z",
     "start_time": "2024-07-29T18:00:40.810206200Z"
    }
   }
  },
  {
   "cell_type": "code",
   "execution_count": 5,
   "outputs": [
    {
     "name": "stdout",
     "output_type": "stream",
     "text": [
      "Test loss: 0.02303507551550865\n",
      "Test accuracy: 0.9926999807357788\n"
     ]
    }
   ],
   "source": [
    "# Evaluate the model\n",
    "score = model.evaluate(x_test, y_test, verbose=0)\n",
    "print(f'Test loss: {score[0]}')\n",
    "print(f'Test accuracy: {score[1]}')"
   ],
   "metadata": {
    "collapsed": false,
    "ExecuteTime": {
     "end_time": "2024-07-29T17:57:10.813941200Z",
     "start_time": "2024-07-29T17:57:10.150373300Z"
    }
   }
  },
  {
   "cell_type": "code",
   "execution_count": null,
   "outputs": [],
   "source": [],
   "metadata": {
    "collapsed": false
   }
  }
 ],
 "metadata": {
  "kernelspec": {
   "display_name": "Python 3",
   "language": "python",
   "name": "python3"
  },
  "language_info": {
   "codemirror_mode": {
    "name": "ipython",
    "version": 2
   },
   "file_extension": ".py",
   "mimetype": "text/x-python",
   "name": "python",
   "nbconvert_exporter": "python",
   "pygments_lexer": "ipython2",
   "version": "2.7.6"
  }
 },
 "nbformat": 4,
 "nbformat_minor": 0
}
